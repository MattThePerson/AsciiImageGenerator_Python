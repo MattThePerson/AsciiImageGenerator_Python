{
 "cells": [
  {
   "cell_type": "code",
   "execution_count": null,
   "metadata": {},
   "outputs": [],
   "source": [
    "import matplotlib.pylab as plt\n",
    "import matplotlib as mpl\n",
    "from skimage import io\n",
    "from skimage import data\n",
    "import numpy as np\n",
    "import math\n",
    "from PIL import Image\n",
    "from PIL import ImageDraw\n",
    "from PIL import ImageFont\n",
    "\n",
    "%matplotlib inline\n",
    "plt.rcParams['figure.figsize'] = (10, 5) # width and height\n",
    "mpl.rc('image', cmap='gray')"
   ]
  },
  {
   "cell_type": "code",
   "execution_count": null,
   "metadata": {},
   "outputs": [],
   "source": [
    "def rgb2gray(img):\n",
    "    if len(img.shape) < 3:\n",
    "        return img\n",
    "    return 0.2125*img[:,:,0] + 0.7154*img[:,:,1] + 0.0721*img[:,:,2]"
   ]
  },
  {
   "cell_type": "code",
   "execution_count": null,
   "metadata": {},
   "outputs": [],
   "source": [
    "def toBlocksOld(img, size_h=8, size_w=8):\n",
    "    h, w = img.shape\n",
    "    h, w = math.floor(h/size_h), math.floor(w/size_w)\n",
    "    blocks = np.empty((h, w, size_h, size_w))\n",
    "    for J in range(h):\n",
    "        for I in range(w):\n",
    "            new_block = np.zeros((size_h, size_w))\n",
    "            y_start, x_start = J*size_h, I*size_w\n",
    "            for j in range(size_h):\n",
    "                for i in range(size_w):\n",
    "                    new_block[j][i] = img[y_start+j][x_start+i]\n",
    "            blocks[J][I] = new_block\n",
    "    return blocks"
   ]
  },
  {
   "cell_type": "code",
   "execution_count": null,
   "metadata": {},
   "outputs": [],
   "source": [
    "def toBlocks(A, n_rows=8, n_cols=8):\n",
    "    if A.shape[0] % n_rows != 0 or A.shape[1] % n_cols != 0:\n",
    "        rows_end = A.shape[0] - A.shape[0] % n_rows\n",
    "        cols_end = A.shape[1] - A.shape[1] % n_cols\n",
    "        A = A[0:rows_end, 0:cols_end]\n",
    "    B = A.reshape((-1, n_rows, A.shape[1]//n_cols, n_cols))\n",
    "    return B.transpose((0,2,1,3))"
   ]
  },
  {
   "cell_type": "code",
   "execution_count": null,
   "metadata": {},
   "outputs": [],
   "source": [
    "def fromBlocksOld(img):\n",
    "    (img_h, img_w, block_h, block_w) = img.shape\n",
    "    output = np.zeros((img_h*block_h, img_w*block_w))\n",
    "    for J in range(img_h):\n",
    "        for I in range(img_w):\n",
    "            block = img[J, I]\n",
    "            for j in range(block_h):\n",
    "                for i in range(block_w):\n",
    "                    y = J * block_h + j\n",
    "                    x = I * block_w + i\n",
    "                    output[y, x] = block[j, i]\n",
    "    return output"
   ]
  },
  {
   "cell_type": "code",
   "execution_count": null,
   "metadata": {},
   "outputs": [],
   "source": [
    "def fromBlocks(img):\n",
    "    rows = []\n",
    "    for J in range(img.shape[0]):\n",
    "        rows.append( np.concatenate(img[J], axis=1) )\n",
    "    \n",
    "    return np.array(np.concatenate(rows))"
   ]
  },
  {
   "cell_type": "code",
   "execution_count": null,
   "metadata": {},
   "outputs": [],
   "source": [
    "def averagePixDiff(im1, im2):\n",
    "    if im1.shape != im2.shape:\n",
    "        print(\"(in avePixDiff) Error: the shapes of two arrays doesn' match\")\n",
    "        return -1\n",
    "    #return np.abs(im1-im2).mean()\n",
    "    #return np.square(im1-im2).mean()\n",
    "    return abs(im1.mean()-im2.mean())"
   ]
  },
  {
   "cell_type": "code",
   "execution_count": null,
   "metadata": {},
   "outputs": [],
   "source": [
    "def getCharBlocks(sentence, fontName, fontSize, block_h, block_w, inverted=False):\n",
    "    myFont = ImageFont.truetype(fontName, fontSize)\n",
    "    fillValue = 0\n",
    "    characters = Image.open('ascii_char_holder.png')\n",
    "    if inverted:\n",
    "        fillValue = 255\n",
    "        characters = Image.open('ascii_char_holder_black.png')\n",
    "    drawer = ImageDraw.Draw(characters)\n",
    "    for i, char in enumerate(sentence):\n",
    "        drawer.text((i*block_w, 0), char, font=myFont, fill=0)\n",
    "    #characters.show()\n",
    "    characterArray = np.asarray(characters)\n",
    "    characterArray = rgb2gray(characterArray)\n",
    "    charBlocks = toBlocks(characterArray, block_h, block_w)\n",
    "    return charBlocks[0]"
   ]
  },
  {
   "cell_type": "code",
   "execution_count": null,
   "metadata": {},
   "outputs": [],
   "source": [
    "def getAsciiImage(image, charsToUse, textInfo, inverted=False):\n",
    "    print(\"in getAsciiImage() ...\\nimage size: {}x{}\".format(image.shape[1],image.shape[0]))\n",
    "\n",
    "    # Generate char blocks\n",
    "    sentence = \"\"\n",
    "    charBlocks = getCharBlocks(charsToUse, textInfo[\"fontName\"], textInfo[\"fontSize\"], textInfo[\"block_h\"], textInfo[\"block_w\"], inverted)\n",
    "    bH, bW = textInfo[\"block_h\"], textInfo[\"block_w\"]\n",
    "\n",
    "    # Partition image blocks\n",
    "    print(\"converting to blocks ...\")\n",
    "    imageBlocks = toBlocks(image, bH, bW)\n",
    "    ascii_blocks = np.empty(imageBlocks.shape)\n",
    "    (imH, imW, rubb, ish) = imageBlocks.shape\n",
    "\n",
    "    # IMAGE BLOCKS SCALING\n",
    "    # Get upper and lower means for image blocks\n",
    "    threshLowerImage = math.inf\n",
    "    threshUpperImage = 0\n",
    "    for row in imageBlocks:\n",
    "        for block in row:\n",
    "            m = block.mean()\n",
    "            if m < threshLowerImage: threshLowerImage = m\n",
    "            if m > threshUpperImage: threshUpperImage = m\n",
    "    #rint(threshLowerImage, threshUpperImage)\n",
    "\n",
    "    # Get darkest char block mean\n",
    "    threshLowerChar = math.inf\n",
    "    threshUpperChar = 255\n",
    "    for block in charBlocks:\n",
    "        m = block.mean()\n",
    "        if m < threshLowerChar: threshLowerChar = m\n",
    "    \n",
    "    #print(\"darkest char block mean: \", threshLowerChar)\n",
    "\n",
    "    # Scale image blocks\n",
    "    DR_char = threshUpperChar - threshLowerChar\n",
    "    DR_image = threshUpperImage - threshLowerImage\n",
    "\n",
    "    imageBlocksScaled = ( imageBlocks - threshLowerImage ) * ( DR_char / DR_image ) + threshLowerChar\n",
    "\n",
    "    min = math.inf\n",
    "    max = 0\n",
    "    for row in imageBlocksScaled:\n",
    "        for block in row:\n",
    "            m = block.mean()\n",
    "            if m < min: min = m\n",
    "            if m > max: max = m\n",
    "    #print(\"darkest scaled image block mean: \", min)\n",
    "    #print(\"lightest scaled image block mean: \", max)\n",
    "\n",
    "    # Process blocks\n",
    "    print(\"blocks to process: {}x{} = {}\".format(imH, imW, imH*imW))\n",
    "    for iy, ix in np.ndindex(imH, imW):\n",
    "        blocks_processed = iy * imW + ix\n",
    "        if blocks_processed % 500 == 0: print(\"blocks processed = {}/{} ...\".format(blocks_processed, imH*imW), end=\"\\r\")\n",
    "        image_block = imageBlocksScaled[iy, ix]\n",
    "        min = math.inf\n",
    "        best_index = 0\n",
    "        for i in range(len(charBlocks)):\n",
    "            aveDiff = averagePixDiff(image_block, charBlocks[i])\n",
    "            if aveDiff < min:\n",
    "                min = aveDiff\n",
    "                best_index = i\n",
    "        \n",
    "        ascii_blocks[iy, ix] = charBlocks[ best_index ]\n",
    "        sentence += charsToUse[ best_index ]\n",
    "        if ix == imW-1: sentence += \"\\n\"\n",
    "    print(\"blocks processed = {}/{} ...\".format(blocks_processed, imH*imW))\n",
    "    print(\"departitioning blocks and returning ...\")\n",
    "    return fromBlocks(ascii_blocks), sentence"
   ]
  },
  {
   "cell_type": "code",
   "execution_count": null,
   "metadata": {},
   "outputs": [],
   "source": [
    "def getImage(image_name):\n",
    "    folder = \"images\"\n",
    "    return rgb2gray(io.imread( \"{}\\{}\".format(folder, image_name) ))"
   ]
  },
  {
   "cell_type": "code",
   "execution_count": null,
   "metadata": {},
   "outputs": [],
   "source": [
    "def getCharacterString():\n",
    "    CHARACTERS = \"\"\n",
    "    for x in range(32,127): CHARACTERS += chr(x)\n",
    "    return CHARACTERS"
   ]
  },
  {
   "cell_type": "code",
   "execution_count": null,
   "metadata": {},
   "outputs": [],
   "source": [
    "# RUNNER\n",
    "# \n",
    "# Image files:\n",
    "# Astronaut.png, Lenna.png, cliff_tree.jpg, wedding.jpg, senators.jpg, the_great_wave.jpg, rings_of_saturn.jpg, saturn.jpg, saturn_and_its_3_moons.jpg, \n",
    "# cheguevara.jpg, girl_with_pearl_earring.jpg\n",
    "\n",
    "x = 1\n",
    "textInfo = {\n",
    "    \"fontName\" : \"courier.ttf\",\n",
    "    \"fontSize\" : 12 * x,\n",
    "    \"block_h\" : 12 * x,\n",
    "    \"block_w\" : 7 * x\n",
    "}\n",
    "charsToUse = getCharacterString()\n",
    "\n",
    "# GET IMAGE\n",
    "imageName = \"cheguevara.jpg\"\n",
    "image = getImage(imageName)\n",
    "ascii_image, ascii_text = getAsciiImage(image, charsToUse, textInfo, inverted=False)\n",
    "\n",
    "# DISPLAY\n",
    "images = (image, ascii_image)\n",
    "fig, ax = plt.subplots(1, len(images))\n",
    "for i, im in enumerate(images):\n",
    "    ax[i].imshow(im, vmin=0, vmax=255), ax[i].axis('off')\n",
    "fig.tight_layout()\n",
    "\n",
    "#print(\"Image as text: \\n\\n{}\".format(ascii_text))\n",
    "ascii_image_image = Image.fromarray(ascii_image)"
   ]
  },
  {
   "cell_type": "code",
   "execution_count": null,
   "metadata": {},
   "outputs": [],
   "source": [
    "# RUN THIS TO: DISPLAY IMAGE\n",
    "ascii_image_image.show()"
   ]
  },
  {
   "cell_type": "code",
   "execution_count": null,
   "metadata": {},
   "outputs": [],
   "source": [
    "# RUN THIS TO: PRINT ASCII STRING\n",
    "print(ascii_text)"
   ]
  },
  {
   "cell_type": "code",
   "execution_count": null,
   "metadata": {},
   "outputs": [],
   "source": [
    "# RUN THIS TO: SAVE IMAGE\n",
    "ascii_image_image.convert('RGB').save(\"ascii_images/ascii_{} ({}pt_{}x{}).png\".format(imageName.split('.')[0], textInfo[\"fontSize\"], textInfo[\"block_h\"], textInfo[\"block_w\"]))"
   ]
  }
 ],
 "metadata": {
  "kernelspec": {
   "display_name": "base",
   "language": "python",
   "name": "python3"
  },
  "language_info": {
   "codemirror_mode": {
    "name": "ipython",
    "version": 3
   },
   "file_extension": ".py",
   "mimetype": "text/x-python",
   "name": "python",
   "nbconvert_exporter": "python",
   "pygments_lexer": "ipython3",
   "version": "3.11.4"
  },
  "orig_nbformat": 4
 },
 "nbformat": 4,
 "nbformat_minor": 2
}
